{
 "cells": [
  {
   "cell_type": "code",
   "execution_count": 2,
   "metadata": {},
   "outputs": [],
   "source": [
    "import pandas as pd\n",
    "import wget\n",
    "from datetime import datetime"
   ]
  },
  {
   "cell_type": "markdown",
   "metadata": {},
   "source": [
    "Loading data"
   ]
  },
  {
   "cell_type": "code",
   "execution_count": 3,
   "metadata": {},
   "outputs": [
    {
     "data": {
      "text/plain": [
       "'seattleWeather_1948-2017 (5).csv'"
      ]
     },
     "execution_count": 3,
     "metadata": {},
     "output_type": "execute_result"
    }
   ],
   "source": [
    "wget.download('https://raw.githubusercontent.com/MicrosoftDocs/mslearn-introduction-to-machine-learning/main/graphing.py')\n",
    "wget.download('https://raw.githubusercontent.com/MicrosoftDocs/mslearn-introduction-to-machine-learning/main/microsoft_custom_linear_regressor.py')\n",
    "wget.download('https://raw.githubusercontent.com/MicrosoftDocs/mslearn-introduction-to-machine-learning/main/Data/seattleWeather_1948-2017.csv')"
   ]
  },
  {
   "cell_type": "code",
   "execution_count": 4,
   "metadata": {},
   "outputs": [
    {
     "data": {
      "text/html": [
       "<div>\n",
       "<style scoped>\n",
       "    .dataframe tbody tr th:only-of-type {\n",
       "        vertical-align: middle;\n",
       "    }\n",
       "\n",
       "    .dataframe tbody tr th {\n",
       "        vertical-align: top;\n",
       "    }\n",
       "\n",
       "    .dataframe thead th {\n",
       "        text-align: right;\n",
       "    }\n",
       "</style>\n",
       "<table border=\"1\" class=\"dataframe\">\n",
       "  <thead>\n",
       "    <tr style=\"text-align: right;\">\n",
       "      <th></th>\n",
       "      <th>date</th>\n",
       "      <th>amount_of_precipitation</th>\n",
       "      <th>max_temperature</th>\n",
       "      <th>min_temperature</th>\n",
       "      <th>rain</th>\n",
       "      <th>year</th>\n",
       "    </tr>\n",
       "  </thead>\n",
       "  <tbody>\n",
       "    <tr>\n",
       "      <th>762</th>\n",
       "      <td>1950-02-01</td>\n",
       "      <td>0.00</td>\n",
       "      <td>27</td>\n",
       "      <td>1</td>\n",
       "      <td>False</td>\n",
       "      <td>1950.087551</td>\n",
       "    </tr>\n",
       "    <tr>\n",
       "      <th>4414</th>\n",
       "      <td>1960-02-01</td>\n",
       "      <td>0.15</td>\n",
       "      <td>52</td>\n",
       "      <td>44</td>\n",
       "      <td>True</td>\n",
       "      <td>1960.087551</td>\n",
       "    </tr>\n",
       "    <tr>\n",
       "      <th>8067</th>\n",
       "      <td>1970-02-01</td>\n",
       "      <td>0.00</td>\n",
       "      <td>50</td>\n",
       "      <td>42</td>\n",
       "      <td>False</td>\n",
       "      <td>1970.087551</td>\n",
       "    </tr>\n",
       "    <tr>\n",
       "      <th>11719</th>\n",
       "      <td>1980-02-01</td>\n",
       "      <td>0.37</td>\n",
       "      <td>54</td>\n",
       "      <td>36</td>\n",
       "      <td>True</td>\n",
       "      <td>1980.087551</td>\n",
       "    </tr>\n",
       "    <tr>\n",
       "      <th>15372</th>\n",
       "      <td>1990-02-01</td>\n",
       "      <td>0.08</td>\n",
       "      <td>45</td>\n",
       "      <td>37</td>\n",
       "      <td>True</td>\n",
       "      <td>1990.087551</td>\n",
       "    </tr>\n",
       "  </tbody>\n",
       "</table>\n",
       "</div>"
      ],
      "text/plain": [
       "            date  amount_of_precipitation  max_temperature  min_temperature  \\\n",
       "762   1950-02-01                     0.00               27                1   \n",
       "4414  1960-02-01                     0.15               52               44   \n",
       "8067  1970-02-01                     0.00               50               42   \n",
       "11719 1980-02-01                     0.37               54               36   \n",
       "15372 1990-02-01                     0.08               45               37   \n",
       "\n",
       "        rain         year  \n",
       "762    False  1950.087551  \n",
       "4414    True  1960.087551  \n",
       "8067   False  1970.087551  \n",
       "11719   True  1980.087551  \n",
       "15372   True  1990.087551  "
      ]
     },
     "execution_count": 4,
     "metadata": {},
     "output_type": "execute_result"
    }
   ],
   "source": [
    "dataset = pd.read_csv('seattleWeather_1948-2017.csv', parse_dates=['date'])\n",
    "\n",
    "# Convert the dates into numbers so we can use them in our models\n",
    "# We make a year column that can contain fractions. For example,\n",
    "# 1948.5 is halfway through the year 1948\n",
    "\n",
    "dataset['year'] = [(d.year + d.timetuple().tm_yday / 365.5) for d in dataset.date]\n",
    "\n",
    "# For the sake of this exercise, let's look at February 1 for the following years:\n",
    "desired_dates = [\n",
    "    datetime(1950,2,1),\n",
    "    datetime(1960,2,1),\n",
    "    datetime(1970,2,1),\n",
    "    datetime(1980,2,1),\n",
    "    datetime(1990,2,1),\n",
    "    datetime(2000,2,1),\n",
    "    datetime(2010,2,1),\n",
    "    datetime(2017,2,1),\n",
    "]\n",
    "\n",
    "dataset = dataset[dataset.date.isin(desired_dates)].copy()\n",
    "\n",
    "dataset.head()"
   ]
  },
  {
   "cell_type": "markdown",
   "metadata": {},
   "source": [
    "Comparing two functions"
   ]
  },
  {
   "cell_type": "code",
   "execution_count": 5,
   "metadata": {},
   "outputs": [],
   "source": [
    "import numpy as np\n",
    "\n",
    "def sum_of_square_differences(estimate, actual):\n",
    "    return np.sum((estimate - actual) ** 2)\n",
    "\n",
    "def sum_of_absolute_difference(estimate, actual):\n",
    "    return np.sum(np.abs(estimate - actual))"
   ]
  },
  {
   "cell_type": "markdown",
   "metadata": {},
   "source": [
    "Lets test"
   ]
  },
  {
   "cell_type": "code",
   "execution_count": 6,
   "metadata": {},
   "outputs": [
    {
     "name": "stdout",
     "output_type": "stream",
     "text": [
      "SSD:  2\n",
      "SAD:  2\n"
     ]
    }
   ],
   "source": [
    "actual_label = np.array([1, 3])\n",
    "model_estimate = np.array([2,2])\n",
    "\n",
    "print('SSD: ', sum_of_square_differences(model_estimate,actual_label))\n",
    "\n",
    "print('SAD: ', sum_of_absolute_difference(model_estimate, actual_label))"
   ]
  },
  {
   "cell_type": "markdown",
   "metadata": {},
   "source": [
    "We have an error of 1 for each estimate, and both methods have returned the same error.\n",
    "\n",
    "What happens if we distribute these errors differently? Let's pretend that we estimated the first value perfectly but were off by 2 for the second value:"
   ]
  },
  {
   "cell_type": "code",
   "execution_count": 8,
   "metadata": {},
   "outputs": [
    {
     "name": "stdout",
     "output_type": "stream",
     "text": [
      "SSD: 4\n",
      "SAD: 2\n"
     ]
    }
   ],
   "source": [
    "actual_label = np.array([1, 3])\n",
    "model_estimate = np.array([1, 1])\n",
    "\n",
    "print(\"SSD:\", sum_of_square_differences(model_estimate, actual_label))\n",
    "print(\"SAD:\", sum_of_absolute_difference(model_estimate, actual_label))"
   ]
  },
  {
   "cell_type": "markdown",
   "metadata": {},
   "source": [
    "Difference in action\n",
    "Lets fit the model"
   ]
  },
  {
   "cell_type": "code",
   "execution_count": 12,
   "metadata": {},
   "outputs": [
    {
     "data": {
      "application/vnd.plotly.v1+json": {
       "config": {
        "plotlyServerURL": "https://plot.ly"
       },
       "data": [
        {
         "hovertemplate": "year=%{x}<br>min temperature=%{y}<extra></extra>",
         "legendgroup": "",
         "marker": {
          "color": "#636efa",
          "size": 20,
          "symbol": "circle"
         },
         "mode": "markers",
         "name": "",
         "orientation": "v",
         "showlegend": false,
         "type": "scatter",
         "x": [
          1950.0875512995897,
          1960.0875512995897,
          1970.0875512995897,
          1980.0875512995897,
          1990.0875512995897,
          2000.0875512995897,
          2010.0875512995897,
          2017.0875512995897
         ],
         "xaxis": "x",
         "y": [
          1,
          44,
          42,
          36,
          37,
          41,
          40,
          29
         ],
         "yaxis": "y"
        }
       ],
       "layout": {
        "legend": {
         "tracegroupgap": 0
        },
        "shapes": [
         {
          "line": {
           "color": "rgb(228,26,28)"
          },
          "path": "M1950.0875512995897 26.09373643181391 L 1950.424234716675 26.168183713456585 L 1950.7609181337605 26.242630995099262 L 1951.0976015508459 26.31707827674194 L 1951.4342849679315 26.39152555838467 L 1951.7709683850169 26.465972840027348 L 1952.1076518021023 26.540420121670024 L 1952.4443352191877 26.6148674033127 L 1952.781018636273 26.689314684955377 L 1953.1177020533585 26.763761966598054 L 1953.4543854704439 26.83820924824073 L 1953.7910688875293 26.912656529883463 L 1954.127752304615 26.98710381152614 L 1954.4644357217003 27.061551093168816 L 1954.8011191387857 27.13599837481155 L 1955.137802555871 27.210445656454226 L 1955.4744859729565 27.284892938096903 L 1955.8111693900419 27.35934021973958 L 1956.1478528071273 27.433787501382255 L 1956.484536224213 27.50823478302499 L 1956.8212196412983 27.582682064667665 L 1957.1579030583837 27.65712934631034 L 1957.494586475469 27.731576627953018 L 1957.8312698925545 27.806023909595694 L 1958.1679533096399 27.88047119123837 L 1958.5046367267253 27.954918472881047 L 1958.841320143811 28.02936575452378 L 1959.1780035608963 28.103813036166457 L 1959.5146869779817 28.178260317809134 L 1959.851370395067 28.25270759945181 L 1960.1880538121525 28.327154881094486 L 1960.5247372292379 28.401602162737163 L 1960.8614206463233 28.47604944437984 L 1961.1981040634087 28.550496726022516 L 1961.5347874804943 28.62494400766525 L 1961.8714708975797 28.699391289307925 L 1962.208154314665 28.773838570950602 L 1962.5448377317505 28.84828585259328 L 1962.8815211488359 28.922733134235955 L 1963.2182045659213 28.99718041587863 L 1963.5548879830067 29.071627697521308 L 1963.8915714000923 29.14607497916404 L 1964.2282548171777 29.220522260806717 L 1964.564938234263 29.294969542449394 L 1964.9016216513485 29.36941682409207 L 1965.2383050684339 29.443864105734747 L 1965.5749884855193 29.518311387377423 L 1965.9116719026047 29.5927586690201 L 1966.2483553196903 29.667205950662833 L 1966.5850387367757 29.74165323230551 L 1966.921722153861 29.816100513948186 L 1967.2584055709465 29.890547795590862 L 1967.5950889880319 29.96499507723354 L 1967.9317724051173 30.039442358876272 L 1968.2684558222027 30.11388964051895 L 1968.605139239288 30.188336922161625 L 1968.9418226563737 30.262784203804358 L 1969.278506073459 30.337231485447035 L 1969.6151894905445 30.41167876708971 L 1969.9518729076299 30.486126048732388 L 1970.2885563247153 30.560573330375064 L 1970.6252397418007 30.63502061201774 L 1970.961923158886 30.709467893660417 L 1971.2986065759717 30.78391517530315 L 1971.635289993057 30.858362456945827 L 1971.9719734101425 30.932809738588503 L 1972.3086568272279 31.00725702023118 L 1972.6453402443133 31.081704301873856 L 1972.9820236613987 31.156151583516532 L 1973.318707078484 31.23059886515921 L 1973.6553904955695 31.305046146801885 L 1973.992073912655 31.37949342844462 L 1974.3287573297405 31.453940710087295 L 1974.6654407468259 31.52838799172997 L 1975.0021241639113 31.602835273372648 L 1975.3388075809967 31.677282555015324 L 1975.675490998082 31.751729836658 L 1976.0121744151675 31.826177118300677 L 1976.348857832253 31.90062439994341 L 1976.6855412493385 31.975071681586087 L 1977.0222246664239 32.04951896322876 L 1977.3589080835093 32.12396624487144 L 1977.6955915005947 32.198413526514116 L 1978.03227491768 32.27286080815679 L 1978.3689583347655 32.34730808979947 L 1978.705641751851 32.4217553714422 L 1979.0423251689365 32.49620265308488 L 1979.3790085860219 32.570649934727555 L 1979.7156920031073 32.64509721637023 L 1980.0523754201927 32.71954449801291 L 1980.389058837278 32.793991779655585 L 1980.7257422543635 32.86843906129826 L 1981.0624256714489 32.94288634294094 L 1981.3991090885345 33.01733362458367 L 1981.7357925056199 33.09178090622635 L 1982.0724759227053 33.16622818786908 L 1982.4091593397907 33.24067546951176 L 1982.745842756876 33.31512275115443 L 1983.0825261739615 33.38957003279711 L 1983.4192095910469 33.464017314439786 L 1983.7558930081325 33.53846459608252 L 1984.0925764252179 33.612911877725196 L 1984.4292598423033 33.68735915936787 L 1984.7659432593887 33.76180644101055 L 1985.102626676474 33.836253722653225 L 1985.4393100935595 33.9107010042959 L 1985.7759935106449 33.98514828593858 L 1986.1126769277305 34.05959556758131 L 1986.449360344816 34.13404284922399 L 1986.7860437619013 34.208490130866664 L 1987.1227271789867 34.28293741250934 L 1987.459410596072 34.35738469415202 L 1987.7960940131575 34.431831975794694 L 1988.1327774302429 34.50627925743737 L 1988.4694608473283 34.58072653908005 L 1988.806144264414 34.65517382072278 L 1989.1428276814993 34.729621102365456 L 1989.4795110985847 34.80406838400813 L 1989.81619451567 34.87851566565081 L 1990.1528779327555 34.952962947293486 L 1990.4895613498409 35.02741022893616 L 1990.8262447669263 35.10185751057884 L 1991.162928184012 35.17630479222157 L 1991.4996116010973 35.25075207386425 L 1991.8362950181827 35.325199355506925 L 1992.172978435268 35.3996466371496 L 1992.5096618523535 35.47409391879228 L 1992.8463452694389 35.548541200434954 L 1993.1830286865243 35.62298848207763 L 1993.51971210361 35.697435763720364 L 1993.8563955206953 35.77188304536304 L 1994.1930789377807 35.84633032700572 L 1994.529762354866 35.92077760864839 L 1994.8664457719515 35.99522489029107 L 1995.2031291890369 36.069672171933746 L 1995.5398126061223 36.14411945357648 L 1995.8764960232077 36.218566735219156 L 1996.2131794402933 36.29301401686183 L 1996.5498628573787 36.367461298504566 L 1996.886546274464 36.44190858014724 L 1997.2232296915495 36.51635586178992 L 1997.5599131086349 36.590803143432595 L 1997.8965965257203 36.66525042507527 L 1998.2332799428057 36.73969770671795 L 1998.5699633598913 36.81414498836068 L 1998.9066467769767 36.88859227000336 L 1999.243330194062 36.963039551646034 L 1999.5800136111475 37.03748683328871 L 1999.9166970282329 37.11193411493139 L 2000.2533804453183 37.18638139657406 L 2000.5900638624037 37.26082867821674 L 2000.926747279489 37.335275959859416 L 2001.2634306965747 37.40972324150215 L 2001.60011411366 37.484170523144826 L 2001.9367975307455 37.5586178047875 L 2002.2734809478309 37.63306508643018 L 2002.6101643649163 37.707512368072855 L 2002.9468477820017 37.78195964971553 L 2003.283531199087 37.85640693135821 L 2003.6202146161727 37.93085421300094 L 2003.956898033258 38.00530149464362 L 2004.2935814503435 38.079748776286294 L 2004.6302648674289 38.15419605792897 L 2004.9669482845143 38.22864333957165 L 2005.3036317015997 38.303090621214324 L 2005.640315118685 38.377537902857 L 2005.9769985357707 38.45198518449973 L 2006.313681952856 38.52643246614241 L 2006.6503653699415 38.600879747785086 L 2006.9870487870269 38.67532702942776 L 2007.3237322041123 38.74977431107044 L 2007.6604156211977 38.824221592713116 L 2007.997099038283 38.89866887435579 L 2008.3337824553685 38.97311615599847 L 2008.670465872454 39.0475634376412 L 2009.0071492895395 39.12201071928388 L 2009.3438327066249 39.196458000926555 L 2009.6805161237103 39.27090528256929 L 2010.0171995407957 39.345352564211964 L 2010.353882957881 39.41979984585464 L 2010.6905663749665 39.49424712749732 L 2011.027249792052 39.56869440914005 L 2011.3639332091375 39.64314169078273 L 2011.7006166262229 39.7175889724254 L 2012.0373000433083 39.79203625406808 L 2012.3739834603937 39.866483535710756 L 2012.710666877479 39.94093081735343 L 2013.0473502945645 40.01537809899611 L 2013.38403371165 40.08982538063884 L 2013.7207171287355 40.16427266228152 L 2014.0574005458209 40.238719943924195 L 2014.3940839629063 40.31316722556687 L 2014.7307673799917 40.38761450720955 L 2015.067450797077 40.462061788852225 L 2015.4041342141625 40.5365090704949 L 2015.7408176312479 40.61095635213758 L 2016.0775010483335 40.68540363378031 L 2016.4141844654189 40.75985091542299 L 2016.7508678825043 40.834298197065664 L 2017.0875512995897 40.90874547870834",
          "type": "path"
         }
        ],
        "template": {
         "data": {
          "bar": [
           {
            "error_x": {
             "color": "#2a3f5f"
            },
            "error_y": {
             "color": "#2a3f5f"
            },
            "marker": {
             "line": {
              "color": "white",
              "width": 0.5
             },
             "pattern": {
              "fillmode": "overlay",
              "size": 10,
              "solidity": 0.2
             }
            },
            "type": "bar"
           }
          ],
          "barpolar": [
           {
            "marker": {
             "line": {
              "color": "white",
              "width": 0.5
             },
             "pattern": {
              "fillmode": "overlay",
              "size": 10,
              "solidity": 0.2
             }
            },
            "type": "barpolar"
           }
          ],
          "box": [
           {
            "boxpoints": "outliers",
            "notched": false,
            "type": "box"
           }
          ],
          "carpet": [
           {
            "aaxis": {
             "endlinecolor": "#2a3f5f",
             "gridcolor": "#C8D4E3",
             "linecolor": "#C8D4E3",
             "minorgridcolor": "#C8D4E3",
             "startlinecolor": "#2a3f5f"
            },
            "baxis": {
             "endlinecolor": "#2a3f5f",
             "gridcolor": "#C8D4E3",
             "linecolor": "#C8D4E3",
             "minorgridcolor": "#C8D4E3",
             "startlinecolor": "#2a3f5f"
            },
            "type": "carpet"
           }
          ],
          "choropleth": [
           {
            "colorbar": {
             "outlinewidth": 0,
             "ticks": ""
            },
            "type": "choropleth"
           }
          ],
          "contour": [
           {
            "colorbar": {
             "outlinewidth": 0,
             "ticks": ""
            },
            "colorscale": [
             [
              0,
              "#0d0887"
             ],
             [
              0.1111111111111111,
              "#46039f"
             ],
             [
              0.2222222222222222,
              "#7201a8"
             ],
             [
              0.3333333333333333,
              "#9c179e"
             ],
             [
              0.4444444444444444,
              "#bd3786"
             ],
             [
              0.5555555555555556,
              "#d8576b"
             ],
             [
              0.6666666666666666,
              "#ed7953"
             ],
             [
              0.7777777777777778,
              "#fb9f3a"
             ],
             [
              0.8888888888888888,
              "#fdca26"
             ],
             [
              1,
              "#f0f921"
             ]
            ],
            "type": "contour"
           }
          ],
          "contourcarpet": [
           {
            "colorbar": {
             "outlinewidth": 0,
             "ticks": ""
            },
            "type": "contourcarpet"
           }
          ],
          "heatmap": [
           {
            "colorbar": {
             "outlinewidth": 0,
             "ticks": ""
            },
            "colorscale": [
             [
              0,
              "#0d0887"
             ],
             [
              0.1111111111111111,
              "#46039f"
             ],
             [
              0.2222222222222222,
              "#7201a8"
             ],
             [
              0.3333333333333333,
              "#9c179e"
             ],
             [
              0.4444444444444444,
              "#bd3786"
             ],
             [
              0.5555555555555556,
              "#d8576b"
             ],
             [
              0.6666666666666666,
              "#ed7953"
             ],
             [
              0.7777777777777778,
              "#fb9f3a"
             ],
             [
              0.8888888888888888,
              "#fdca26"
             ],
             [
              1,
              "#f0f921"
             ]
            ],
            "type": "heatmap"
           }
          ],
          "heatmapgl": [
           {
            "colorbar": {
             "outlinewidth": 0,
             "ticks": ""
            },
            "colorscale": [
             [
              0,
              "#0d0887"
             ],
             [
              0.1111111111111111,
              "#46039f"
             ],
             [
              0.2222222222222222,
              "#7201a8"
             ],
             [
              0.3333333333333333,
              "#9c179e"
             ],
             [
              0.4444444444444444,
              "#bd3786"
             ],
             [
              0.5555555555555556,
              "#d8576b"
             ],
             [
              0.6666666666666666,
              "#ed7953"
             ],
             [
              0.7777777777777778,
              "#fb9f3a"
             ],
             [
              0.8888888888888888,
              "#fdca26"
             ],
             [
              1,
              "#f0f921"
             ]
            ],
            "type": "heatmapgl"
           }
          ],
          "histogram": [
           {
            "marker": {
             "line": {
              "width": 1
             },
             "pattern": {
              "fillmode": "overlay",
              "size": 10,
              "solidity": 0.2
             }
            },
            "type": "histogram"
           }
          ],
          "histogram2d": [
           {
            "colorbar": {
             "outlinewidth": 0,
             "ticks": ""
            },
            "colorscale": [
             [
              0,
              "#0d0887"
             ],
             [
              0.1111111111111111,
              "#46039f"
             ],
             [
              0.2222222222222222,
              "#7201a8"
             ],
             [
              0.3333333333333333,
              "#9c179e"
             ],
             [
              0.4444444444444444,
              "#bd3786"
             ],
             [
              0.5555555555555556,
              "#d8576b"
             ],
             [
              0.6666666666666666,
              "#ed7953"
             ],
             [
              0.7777777777777778,
              "#fb9f3a"
             ],
             [
              0.8888888888888888,
              "#fdca26"
             ],
             [
              1,
              "#f0f921"
             ]
            ],
            "type": "histogram2d"
           }
          ],
          "histogram2dcontour": [
           {
            "colorbar": {
             "outlinewidth": 0,
             "ticks": ""
            },
            "colorscale": [
             [
              0,
              "#0d0887"
             ],
             [
              0.1111111111111111,
              "#46039f"
             ],
             [
              0.2222222222222222,
              "#7201a8"
             ],
             [
              0.3333333333333333,
              "#9c179e"
             ],
             [
              0.4444444444444444,
              "#bd3786"
             ],
             [
              0.5555555555555556,
              "#d8576b"
             ],
             [
              0.6666666666666666,
              "#ed7953"
             ],
             [
              0.7777777777777778,
              "#fb9f3a"
             ],
             [
              0.8888888888888888,
              "#fdca26"
             ],
             [
              1,
              "#f0f921"
             ]
            ],
            "type": "histogram2dcontour"
           }
          ],
          "mesh3d": [
           {
            "colorbar": {
             "outlinewidth": 0,
             "ticks": ""
            },
            "type": "mesh3d"
           }
          ],
          "parcoords": [
           {
            "line": {
             "colorbar": {
              "outlinewidth": 0,
              "ticks": ""
             }
            },
            "type": "parcoords"
           }
          ],
          "pie": [
           {
            "automargin": true,
            "type": "pie"
           }
          ],
          "scatter": [
           {
            "fillpattern": {
             "fillmode": "overlay",
             "size": 10,
             "solidity": 0.2
            },
            "marker": {
             "opacity": 0.8
            },
            "type": "scatter"
           }
          ],
          "scatter3d": [
           {
            "line": {
             "colorbar": {
              "outlinewidth": 0,
              "ticks": ""
             }
            },
            "marker": {
             "colorbar": {
              "outlinewidth": 0,
              "ticks": ""
             },
             "opacity": 0.8
            },
            "type": "scatter3d"
           }
          ],
          "scattercarpet": [
           {
            "marker": {
             "colorbar": {
              "outlinewidth": 0,
              "ticks": ""
             }
            },
            "type": "scattercarpet"
           }
          ],
          "scattergeo": [
           {
            "marker": {
             "colorbar": {
              "outlinewidth": 0,
              "ticks": ""
             }
            },
            "type": "scattergeo"
           }
          ],
          "scattergl": [
           {
            "marker": {
             "colorbar": {
              "outlinewidth": 0,
              "ticks": ""
             }
            },
            "type": "scattergl"
           }
          ],
          "scattermapbox": [
           {
            "marker": {
             "colorbar": {
              "outlinewidth": 0,
              "ticks": ""
             }
            },
            "type": "scattermapbox"
           }
          ],
          "scatterpolar": [
           {
            "marker": {
             "colorbar": {
              "outlinewidth": 0,
              "ticks": ""
             }
            },
            "type": "scatterpolar"
           }
          ],
          "scatterpolargl": [
           {
            "marker": {
             "colorbar": {
              "outlinewidth": 0,
              "ticks": ""
             }
            },
            "type": "scatterpolargl"
           }
          ],
          "scatterternary": [
           {
            "marker": {
             "colorbar": {
              "outlinewidth": 0,
              "ticks": ""
             }
            },
            "type": "scatterternary"
           }
          ],
          "surface": [
           {
            "colorbar": {
             "outlinewidth": 0,
             "ticks": ""
            },
            "colorscale": [
             [
              0,
              "#0d0887"
             ],
             [
              0.1111111111111111,
              "#46039f"
             ],
             [
              0.2222222222222222,
              "#7201a8"
             ],
             [
              0.3333333333333333,
              "#9c179e"
             ],
             [
              0.4444444444444444,
              "#bd3786"
             ],
             [
              0.5555555555555556,
              "#d8576b"
             ],
             [
              0.6666666666666666,
              "#ed7953"
             ],
             [
              0.7777777777777778,
              "#fb9f3a"
             ],
             [
              0.8888888888888888,
              "#fdca26"
             ],
             [
              1,
              "#f0f921"
             ]
            ],
            "type": "surface"
           }
          ],
          "table": [
           {
            "cells": {
             "fill": {
              "color": "#EBF0F8"
             },
             "line": {
              "color": "white"
             }
            },
            "header": {
             "fill": {
              "color": "#C8D4E3"
             },
             "line": {
              "color": "white"
             }
            },
            "type": "table"
           }
          ]
         },
         "layout": {
          "annotationdefaults": {
           "arrowcolor": "#2a3f5f",
           "arrowhead": 0,
           "arrowwidth": 1
          },
          "autotypenumbers": "strict",
          "coloraxis": {
           "colorbar": {
            "outlinewidth": 0,
            "ticks": ""
           }
          },
          "colorscale": {
           "diverging": [
            [
             0,
             "#8e0152"
            ],
            [
             0.1,
             "#c51b7d"
            ],
            [
             0.2,
             "#de77ae"
            ],
            [
             0.3,
             "#f1b6da"
            ],
            [
             0.4,
             "#fde0ef"
            ],
            [
             0.5,
             "#f7f7f7"
            ],
            [
             0.6,
             "#e6f5d0"
            ],
            [
             0.7,
             "#b8e186"
            ],
            [
             0.8,
             "#7fbc41"
            ],
            [
             0.9,
             "#4d9221"
            ],
            [
             1,
             "#276419"
            ]
           ],
           "sequential": [
            [
             0,
             "#0d0887"
            ],
            [
             0.1111111111111111,
             "#46039f"
            ],
            [
             0.2222222222222222,
             "#7201a8"
            ],
            [
             0.3333333333333333,
             "#9c179e"
            ],
            [
             0.4444444444444444,
             "#bd3786"
            ],
            [
             0.5555555555555556,
             "#d8576b"
            ],
            [
             0.6666666666666666,
             "#ed7953"
            ],
            [
             0.7777777777777778,
             "#fb9f3a"
            ],
            [
             0.8888888888888888,
             "#fdca26"
            ],
            [
             1,
             "#f0f921"
            ]
           ],
           "sequentialminus": [
            [
             0,
             "#0d0887"
            ],
            [
             0.1111111111111111,
             "#46039f"
            ],
            [
             0.2222222222222222,
             "#7201a8"
            ],
            [
             0.3333333333333333,
             "#9c179e"
            ],
            [
             0.4444444444444444,
             "#bd3786"
            ],
            [
             0.5555555555555556,
             "#d8576b"
            ],
            [
             0.6666666666666666,
             "#ed7953"
            ],
            [
             0.7777777777777778,
             "#fb9f3a"
            ],
            [
             0.8888888888888888,
             "#fdca26"
            ],
            [
             1,
             "#f0f921"
            ]
           ]
          },
          "colorway": [
           "#636efa",
           "#EF553B",
           "#00cc96",
           "#ab63fa",
           "#FFA15A",
           "#19d3f3",
           "#FF6692",
           "#B6E880",
           "#FF97FF",
           "#FECB52"
          ],
          "font": {
           "color": "#2a3f5f"
          },
          "geo": {
           "bgcolor": "white",
           "lakecolor": "white",
           "landcolor": "white",
           "showlakes": true,
           "showland": true,
           "subunitcolor": "#C8D4E3"
          },
          "height": 400,
          "hoverlabel": {
           "align": "left"
          },
          "hovermode": "closest",
          "mapbox": {
           "style": "light"
          },
          "margin": {
           "b": 2,
           "l": 2,
           "r": 2,
           "t": 30
          },
          "paper_bgcolor": "white",
          "plot_bgcolor": "white",
          "polar": {
           "angularaxis": {
            "gridcolor": "#EBF0F8",
            "linecolor": "#EBF0F8",
            "ticks": ""
           },
           "bgcolor": "white",
           "radialaxis": {
            "gridcolor": "#EBF0F8",
            "linecolor": "#EBF0F8",
            "ticks": ""
           }
          },
          "scene": {
           "camera": {
            "eye": {
             "x": 1.5,
             "y": 1.5,
             "z": 0.1
            }
           },
           "xaxis": {
            "backgroundcolor": "white",
            "gridcolor": "#DFE8F3",
            "gridwidth": 2,
            "linecolor": "#EBF0F8",
            "showbackground": true,
            "ticks": "",
            "zerolinecolor": "#EBF0F8"
           },
           "yaxis": {
            "backgroundcolor": "white",
            "gridcolor": "#DFE8F3",
            "gridwidth": 2,
            "linecolor": "#EBF0F8",
            "showbackground": true,
            "ticks": "",
            "zerolinecolor": "#EBF0F8"
           },
           "zaxis": {
            "backgroundcolor": "white",
            "gridcolor": "#DFE8F3",
            "gridwidth": 2,
            "linecolor": "#EBF0F8",
            "showbackground": true,
            "ticks": "",
            "zerolinecolor": "#EBF0F8"
           }
          },
          "shapedefaults": {
           "line": {
            "color": "#2a3f5f"
           }
          },
          "ternary": {
           "aaxis": {
            "gridcolor": "#DFE8F3",
            "linecolor": "#A2B1C6",
            "ticks": ""
           },
           "baxis": {
            "gridcolor": "#DFE8F3",
            "linecolor": "#A2B1C6",
            "ticks": ""
           },
           "bgcolor": "white",
           "caxis": {
            "gridcolor": "#DFE8F3",
            "linecolor": "#A2B1C6",
            "ticks": ""
           }
          },
          "title": {
           "x": 0.5
          },
          "xaxis": {
           "automargin": true,
           "gridcolor": "#EBF0F8",
           "linecolor": "#EBF0F8",
           "linewidth": 2,
           "showline": true,
           "ticks": "",
           "title": {
            "standoff": 15
           },
           "zerolinecolor": "#EBF0F8",
           "zerolinewidth": 2
          },
          "yaxis": {
           "automargin": true,
           "gridcolor": "#EBF0F8",
           "linecolor": "#EBF0F8",
           "linewidth": 2,
           "showline": true,
           "ticks": "",
           "title": {
            "standoff": 15
           },
           "zerolinecolor": "#EBF0F8",
           "zerolinewidth": 2
          }
         }
        },
        "xaxis": {
         "anchor": "y",
         "domain": [
          0,
          1
         ],
         "title": {
          "text": "year"
         }
        },
        "yaxis": {
         "anchor": "x",
         "domain": [
          0,
          1
         ],
         "title": {
          "text": "min temperature"
         }
        }
       }
      }
     },
     "metadata": {},
     "output_type": "display_data"
    }
   ],
   "source": [
    "from microsoft_custom_linear_regressor import MicrosoftCustomLinearRegressor\n",
    "import graphing\n",
    "\n",
    "\n",
    "# Fit a model by using sum of square differences\n",
    "\n",
    "model = MicrosoftCustomLinearRegressor().fit(X=dataset.year,\n",
    "y=dataset.min_temperature,\n",
    "cost_function=sum_of_square_differences)\n",
    "\n",
    "# graph the model\n",
    "\n",
    "graphing.scatter_2D(dataset, label_x='year', label_y='min_temperature', trendline=model.predict)"
   ]
  },
  {
   "cell_type": "markdown",
   "metadata": {},
   "source": [
    "Now using Sum of absolute differences SAD"
   ]
  },
  {
   "cell_type": "code",
   "execution_count": 14,
   "metadata": {},
   "outputs": [
    {
     "data": {
      "application/vnd.plotly.v1+json": {
       "config": {
        "plotlyServerURL": "https://plot.ly"
       },
       "data": [
        {
         "hovertemplate": "year=%{x}<br>min temperature=%{y}<extra></extra>",
         "legendgroup": "",
         "marker": {
          "color": "#636efa",
          "size": 20,
          "symbol": "circle"
         },
         "mode": "markers",
         "name": "",
         "orientation": "v",
         "showlegend": false,
         "type": "scatter",
         "x": [
          1950.0875512995897,
          1960.0875512995897,
          1970.0875512995897,
          1980.0875512995897,
          1990.0875512995897,
          2000.0875512995897,
          2010.0875512995897,
          2017.0875512995897
         ],
         "xaxis": "x",
         "y": [
          1,
          44,
          42,
          36,
          37,
          41,
          40,
          29
         ],
         "yaxis": "y"
        }
       ],
       "layout": {
        "legend": {
         "tracegroupgap": 0
        },
        "shapes": [
         {
          "line": {
           "color": "rgb(228,26,28)"
          },
          "path": "M1950.0875512995897 38.42538703648947 L 1950.424234716675 38.43229085529484 L 1950.7609181337605 38.439194674100214 L 1951.0976015508459 38.446098492905584 L 1951.4342849679315 38.45300231171096 L 1951.7709683850169 38.45990613051634 L 1952.1076518021023 38.46680994932171 L 1952.4443352191877 38.47371376812708 L 1952.781018636273 38.48061758693245 L 1953.1177020533585 38.48752140573782 L 1953.4543854704439 38.4944252245432 L 1953.7910688875293 38.50132904334857 L 1954.127752304615 38.508232862153946 L 1954.4644357217003 38.515136680959316 L 1954.8011191387857 38.52204049976469 L 1955.137802555871 38.52894431857006 L 1955.4744859729565 38.53584813737544 L 1955.8111693900419 38.54275195618081 L 1956.1478528071273 38.54965577498618 L 1956.484536224213 38.556559593791555 L 1956.8212196412983 38.56346341259693 L 1957.1579030583837 38.5703672314023 L 1957.494586475469 38.57727105020767 L 1957.8312698925545 38.58417486901305 L 1958.1679533096399 38.59107868781842 L 1958.5046367267253 38.597982506623794 L 1958.841320143811 38.60488632542917 L 1959.1780035608963 38.61179014423454 L 1959.5146869779817 38.61869396303991 L 1959.851370395067 38.625597781845286 L 1960.1880538121525 38.632501600650656 L 1960.5247372292379 38.63940541945603 L 1960.8614206463233 38.6463092382614 L 1961.1981040634087 38.65321305706677 L 1961.5347874804943 38.66011687587215 L 1961.8714708975797 38.667020694677525 L 1962.208154314665 38.673924513482895 L 1962.5448377317505 38.68082833228827 L 1962.8815211488359 38.68773215109364 L 1963.2182045659213 38.69463596989901 L 1963.5548879830067 38.70153978870439 L 1963.8915714000923 38.708443607509764 L 1964.2282548171777 38.715347426315134 L 1964.564938234263 38.7222512451205 L 1964.9016216513485 38.72915506392588 L 1965.2383050684339 38.73605888273125 L 1965.5749884855193 38.74296270153663 L 1965.9116719026047 38.749866520341996 L 1966.2483553196903 38.75677033914737 L 1966.5850387367757 38.76367415795274 L 1966.921722153861 38.77057797675812 L 1967.2584055709465 38.77748179556349 L 1967.5950889880319 38.784385614368865 L 1967.9317724051173 38.791289433174235 L 1968.2684558222027 38.798193251979605 L 1968.605139239288 38.80509707078498 L 1968.9418226563737 38.81200088959036 L 1969.278506073459 38.81890470839573 L 1969.6151894905445 38.825808527201104 L 1969.9518729076299 38.832712346006474 L 1970.2885563247153 38.839616164811844 L 1970.6252397418007 38.84651998361722 L 1970.961923158886 38.85342380242259 L 1971.2986065759717 38.86032762122797 L 1971.635289993057 38.86723144003334 L 1971.9719734101425 38.87413525883871 L 1972.3086568272279 38.88103907764408 L 1972.6453402443133 38.88794289644946 L 1972.9820236613987 38.89484671525483 L 1973.318707078484 38.9017505340602 L 1973.6553904955695 38.908654352865575 L 1973.992073912655 38.91555817167095 L 1974.3287573297405 38.92246199047632 L 1974.6654407468259 38.9293658092817 L 1975.0021241639113 38.93626962808707 L 1975.3388075809967 38.94317344689244 L 1975.675490998082 38.950077265697814 L 1976.0121744151675 38.956981084503184 L 1976.348857832253 38.96388490330856 L 1976.6855412493385 38.97078872211394 L 1977.0222246664239 38.97769254091931 L 1977.3589080835093 38.98459635972468 L 1977.6955915005947 38.99150017853005 L 1978.03227491768 38.99840399733542 L 1978.3689583347655 39.0053078161408 L 1978.705641751851 39.012211634946176 L 1979.0423251689365 39.019115453751546 L 1979.3790085860219 39.026019272556915 L 1979.7156920031073 39.03292309136229 L 1980.0523754201927 39.03982691016766 L 1980.389058837278 39.04673072897303 L 1980.7257422543635 39.05363454777841 L 1981.0624256714489 39.06053836658378 L 1981.3991090885345 39.067442185389154 L 1981.7357925056199 39.07434600419453 L 1982.0724759227053 39.0812498229999 L 1982.4091593397907 39.08815364180527 L 1982.745842756876 39.09505746061065 L 1983.0825261739615 39.10196127941602 L 1983.4192095910469 39.10886509822139 L 1983.7558930081325 39.11576891702677 L 1984.0925764252179 39.12267273583214 L 1984.4292598423033 39.12957655463751 L 1984.7659432593887 39.136480373442886 L 1985.102626676474 39.143384192248256 L 1985.4393100935595 39.15028801105363 L 1985.7759935106449 39.157191829859 L 1986.1126769277305 39.16409564866438 L 1986.449360344816 39.17099946746975 L 1986.7860437619013 39.177903286275125 L 1987.1227271789867 39.184807105080495 L 1987.459410596072 39.191710923885864 L 1987.7960940131575 39.19861474269124 L 1988.1327774302429 39.20551856149661 L 1988.4694608473283 39.21242238030199 L 1988.806144264414 39.219326199107364 L 1989.1428276814993 39.226230017912734 L 1989.4795110985847 39.2331338367181 L 1989.81619451567 39.24003765552348 L 1990.1528779327555 39.24694147432885 L 1990.4895613498409 39.253845293134226 L 1990.8262447669263 39.260749111939596 L 1991.162928184012 39.26765293074497 L 1991.4996116010973 39.27455674955034 L 1991.8362950181827 39.28146056835572 L 1992.172978435268 39.28836438716109 L 1992.5096618523535 39.295268205966465 L 1992.8463452694389 39.302172024771835 L 1993.1830286865243 39.309075843577205 L 1993.51971210361 39.31597966238258 L 1993.8563955206953 39.32288348118796 L 1994.1930789377807 39.32978729999333 L 1994.529762354866 39.336691118798704 L 1994.8664457719515 39.343594937604074 L 1995.2031291890369 39.35049875640944 L 1995.5398126061223 39.35740257521482 L 1995.8764960232077 39.36430639402019 L 1996.2131794402933 39.37121021282557 L 1996.5498628573787 39.378114031630936 L 1996.886546274464 39.38501785043631 L 1997.2232296915495 39.39192166924168 L 1997.5599131086349 39.39882548804706 L 1997.8965965257203 39.40572930685243 L 1998.2332799428057 39.4126331256578 L 1998.5699633598913 39.419536944463175 L 1998.9066467769767 39.42644076326855 L 1999.243330194062 39.43334458207392 L 1999.5800136111475 39.4402484008793 L 1999.9166970282329 39.44715221968467 L 2000.2533804453183 39.45405603849004 L 2000.5900638624037 39.460959857295414 L 2000.926747279489 39.467863676100784 L 2001.2634306965747 39.47476749490616 L 2001.60011411366 39.48167131371154 L 2001.9367975307455 39.48857513251691 L 2002.2734809478309 39.495478951322276 L 2002.6101643649163 39.50238277012765 L 2002.9468477820017 39.50928658893302 L 2003.283531199087 39.51619040773839 L 2003.6202146161727 39.523094226543776 L 2003.956898033258 39.529998045349146 L 2004.2935814503435 39.536901864154515 L 2004.6302648674289 39.54380568295989 L 2004.9669482845143 39.55070950176526 L 2005.3036317015997 39.55761332057063 L 2005.640315118685 39.56451713937601 L 2005.9769985357707 39.571420958181385 L 2006.313681952856 39.578324776986754 L 2006.6503653699415 39.58522859579213 L 2006.9870487870269 39.5921324145975 L 2007.3237322041123 39.59903623340287 L 2007.6604156211977 39.60594005220825 L 2007.997099038283 39.61284387101362 L 2008.3337824553685 39.61974768981899 L 2008.670465872454 39.62665150862437 L 2009.0071492895395 39.63355532742974 L 2009.3438327066249 39.64045914623511 L 2009.6805161237103 39.647362965040486 L 2010.0171995407957 39.654266783845856 L 2010.353882957881 39.661170602651225 L 2010.6905663749665 39.6680744214566 L 2011.027249792052 39.67497824026198 L 2011.3639332091375 39.68188205906735 L 2011.7006166262229 39.688785877872725 L 2012.0373000433083 39.695689696678095 L 2012.3739834603937 39.702593515483464 L 2012.710666877479 39.70949733428884 L 2013.0473502945645 39.71640115309421 L 2013.38403371165 39.72330497189959 L 2013.7207171287355 39.730208790704964 L 2014.0574005458209 39.73711260951033 L 2014.3940839629063 39.7440164283157 L 2014.7307673799917 39.75092024712108 L 2015.067450797077 39.75782406592645 L 2015.4041342141625 39.764727884731826 L 2015.7408176312479 39.771631703537196 L 2016.0775010483335 39.77853552234257 L 2016.4141844654189 39.78543934114794 L 2016.7508678825043 39.79234315995332 L 2017.0875512995897 39.79924697875869",
          "type": "path"
         }
        ],
        "template": {
         "data": {
          "bar": [
           {
            "error_x": {
             "color": "#2a3f5f"
            },
            "error_y": {
             "color": "#2a3f5f"
            },
            "marker": {
             "line": {
              "color": "white",
              "width": 0.5
             },
             "pattern": {
              "fillmode": "overlay",
              "size": 10,
              "solidity": 0.2
             }
            },
            "type": "bar"
           }
          ],
          "barpolar": [
           {
            "marker": {
             "line": {
              "color": "white",
              "width": 0.5
             },
             "pattern": {
              "fillmode": "overlay",
              "size": 10,
              "solidity": 0.2
             }
            },
            "type": "barpolar"
           }
          ],
          "box": [
           {
            "boxpoints": "outliers",
            "notched": false,
            "type": "box"
           }
          ],
          "carpet": [
           {
            "aaxis": {
             "endlinecolor": "#2a3f5f",
             "gridcolor": "#C8D4E3",
             "linecolor": "#C8D4E3",
             "minorgridcolor": "#C8D4E3",
             "startlinecolor": "#2a3f5f"
            },
            "baxis": {
             "endlinecolor": "#2a3f5f",
             "gridcolor": "#C8D4E3",
             "linecolor": "#C8D4E3",
             "minorgridcolor": "#C8D4E3",
             "startlinecolor": "#2a3f5f"
            },
            "type": "carpet"
           }
          ],
          "choropleth": [
           {
            "colorbar": {
             "outlinewidth": 0,
             "ticks": ""
            },
            "type": "choropleth"
           }
          ],
          "contour": [
           {
            "colorbar": {
             "outlinewidth": 0,
             "ticks": ""
            },
            "colorscale": [
             [
              0,
              "#0d0887"
             ],
             [
              0.1111111111111111,
              "#46039f"
             ],
             [
              0.2222222222222222,
              "#7201a8"
             ],
             [
              0.3333333333333333,
              "#9c179e"
             ],
             [
              0.4444444444444444,
              "#bd3786"
             ],
             [
              0.5555555555555556,
              "#d8576b"
             ],
             [
              0.6666666666666666,
              "#ed7953"
             ],
             [
              0.7777777777777778,
              "#fb9f3a"
             ],
             [
              0.8888888888888888,
              "#fdca26"
             ],
             [
              1,
              "#f0f921"
             ]
            ],
            "type": "contour"
           }
          ],
          "contourcarpet": [
           {
            "colorbar": {
             "outlinewidth": 0,
             "ticks": ""
            },
            "type": "contourcarpet"
           }
          ],
          "heatmap": [
           {
            "colorbar": {
             "outlinewidth": 0,
             "ticks": ""
            },
            "colorscale": [
             [
              0,
              "#0d0887"
             ],
             [
              0.1111111111111111,
              "#46039f"
             ],
             [
              0.2222222222222222,
              "#7201a8"
             ],
             [
              0.3333333333333333,
              "#9c179e"
             ],
             [
              0.4444444444444444,
              "#bd3786"
             ],
             [
              0.5555555555555556,
              "#d8576b"
             ],
             [
              0.6666666666666666,
              "#ed7953"
             ],
             [
              0.7777777777777778,
              "#fb9f3a"
             ],
             [
              0.8888888888888888,
              "#fdca26"
             ],
             [
              1,
              "#f0f921"
             ]
            ],
            "type": "heatmap"
           }
          ],
          "heatmapgl": [
           {
            "colorbar": {
             "outlinewidth": 0,
             "ticks": ""
            },
            "colorscale": [
             [
              0,
              "#0d0887"
             ],
             [
              0.1111111111111111,
              "#46039f"
             ],
             [
              0.2222222222222222,
              "#7201a8"
             ],
             [
              0.3333333333333333,
              "#9c179e"
             ],
             [
              0.4444444444444444,
              "#bd3786"
             ],
             [
              0.5555555555555556,
              "#d8576b"
             ],
             [
              0.6666666666666666,
              "#ed7953"
             ],
             [
              0.7777777777777778,
              "#fb9f3a"
             ],
             [
              0.8888888888888888,
              "#fdca26"
             ],
             [
              1,
              "#f0f921"
             ]
            ],
            "type": "heatmapgl"
           }
          ],
          "histogram": [
           {
            "marker": {
             "line": {
              "width": 1
             },
             "pattern": {
              "fillmode": "overlay",
              "size": 10,
              "solidity": 0.2
             }
            },
            "type": "histogram"
           }
          ],
          "histogram2d": [
           {
            "colorbar": {
             "outlinewidth": 0,
             "ticks": ""
            },
            "colorscale": [
             [
              0,
              "#0d0887"
             ],
             [
              0.1111111111111111,
              "#46039f"
             ],
             [
              0.2222222222222222,
              "#7201a8"
             ],
             [
              0.3333333333333333,
              "#9c179e"
             ],
             [
              0.4444444444444444,
              "#bd3786"
             ],
             [
              0.5555555555555556,
              "#d8576b"
             ],
             [
              0.6666666666666666,
              "#ed7953"
             ],
             [
              0.7777777777777778,
              "#fb9f3a"
             ],
             [
              0.8888888888888888,
              "#fdca26"
             ],
             [
              1,
              "#f0f921"
             ]
            ],
            "type": "histogram2d"
           }
          ],
          "histogram2dcontour": [
           {
            "colorbar": {
             "outlinewidth": 0,
             "ticks": ""
            },
            "colorscale": [
             [
              0,
              "#0d0887"
             ],
             [
              0.1111111111111111,
              "#46039f"
             ],
             [
              0.2222222222222222,
              "#7201a8"
             ],
             [
              0.3333333333333333,
              "#9c179e"
             ],
             [
              0.4444444444444444,
              "#bd3786"
             ],
             [
              0.5555555555555556,
              "#d8576b"
             ],
             [
              0.6666666666666666,
              "#ed7953"
             ],
             [
              0.7777777777777778,
              "#fb9f3a"
             ],
             [
              0.8888888888888888,
              "#fdca26"
             ],
             [
              1,
              "#f0f921"
             ]
            ],
            "type": "histogram2dcontour"
           }
          ],
          "mesh3d": [
           {
            "colorbar": {
             "outlinewidth": 0,
             "ticks": ""
            },
            "type": "mesh3d"
           }
          ],
          "parcoords": [
           {
            "line": {
             "colorbar": {
              "outlinewidth": 0,
              "ticks": ""
             }
            },
            "type": "parcoords"
           }
          ],
          "pie": [
           {
            "automargin": true,
            "type": "pie"
           }
          ],
          "scatter": [
           {
            "fillpattern": {
             "fillmode": "overlay",
             "size": 10,
             "solidity": 0.2
            },
            "marker": {
             "opacity": 0.8
            },
            "type": "scatter"
           }
          ],
          "scatter3d": [
           {
            "line": {
             "colorbar": {
              "outlinewidth": 0,
              "ticks": ""
             }
            },
            "marker": {
             "colorbar": {
              "outlinewidth": 0,
              "ticks": ""
             },
             "opacity": 0.8
            },
            "type": "scatter3d"
           }
          ],
          "scattercarpet": [
           {
            "marker": {
             "colorbar": {
              "outlinewidth": 0,
              "ticks": ""
             }
            },
            "type": "scattercarpet"
           }
          ],
          "scattergeo": [
           {
            "marker": {
             "colorbar": {
              "outlinewidth": 0,
              "ticks": ""
             }
            },
            "type": "scattergeo"
           }
          ],
          "scattergl": [
           {
            "marker": {
             "colorbar": {
              "outlinewidth": 0,
              "ticks": ""
             }
            },
            "type": "scattergl"
           }
          ],
          "scattermapbox": [
           {
            "marker": {
             "colorbar": {
              "outlinewidth": 0,
              "ticks": ""
             }
            },
            "type": "scattermapbox"
           }
          ],
          "scatterpolar": [
           {
            "marker": {
             "colorbar": {
              "outlinewidth": 0,
              "ticks": ""
             }
            },
            "type": "scatterpolar"
           }
          ],
          "scatterpolargl": [
           {
            "marker": {
             "colorbar": {
              "outlinewidth": 0,
              "ticks": ""
             }
            },
            "type": "scatterpolargl"
           }
          ],
          "scatterternary": [
           {
            "marker": {
             "colorbar": {
              "outlinewidth": 0,
              "ticks": ""
             }
            },
            "type": "scatterternary"
           }
          ],
          "surface": [
           {
            "colorbar": {
             "outlinewidth": 0,
             "ticks": ""
            },
            "colorscale": [
             [
              0,
              "#0d0887"
             ],
             [
              0.1111111111111111,
              "#46039f"
             ],
             [
              0.2222222222222222,
              "#7201a8"
             ],
             [
              0.3333333333333333,
              "#9c179e"
             ],
             [
              0.4444444444444444,
              "#bd3786"
             ],
             [
              0.5555555555555556,
              "#d8576b"
             ],
             [
              0.6666666666666666,
              "#ed7953"
             ],
             [
              0.7777777777777778,
              "#fb9f3a"
             ],
             [
              0.8888888888888888,
              "#fdca26"
             ],
             [
              1,
              "#f0f921"
             ]
            ],
            "type": "surface"
           }
          ],
          "table": [
           {
            "cells": {
             "fill": {
              "color": "#EBF0F8"
             },
             "line": {
              "color": "white"
             }
            },
            "header": {
             "fill": {
              "color": "#C8D4E3"
             },
             "line": {
              "color": "white"
             }
            },
            "type": "table"
           }
          ]
         },
         "layout": {
          "annotationdefaults": {
           "arrowcolor": "#2a3f5f",
           "arrowhead": 0,
           "arrowwidth": 1
          },
          "autotypenumbers": "strict",
          "coloraxis": {
           "colorbar": {
            "outlinewidth": 0,
            "ticks": ""
           }
          },
          "colorscale": {
           "diverging": [
            [
             0,
             "#8e0152"
            ],
            [
             0.1,
             "#c51b7d"
            ],
            [
             0.2,
             "#de77ae"
            ],
            [
             0.3,
             "#f1b6da"
            ],
            [
             0.4,
             "#fde0ef"
            ],
            [
             0.5,
             "#f7f7f7"
            ],
            [
             0.6,
             "#e6f5d0"
            ],
            [
             0.7,
             "#b8e186"
            ],
            [
             0.8,
             "#7fbc41"
            ],
            [
             0.9,
             "#4d9221"
            ],
            [
             1,
             "#276419"
            ]
           ],
           "sequential": [
            [
             0,
             "#0d0887"
            ],
            [
             0.1111111111111111,
             "#46039f"
            ],
            [
             0.2222222222222222,
             "#7201a8"
            ],
            [
             0.3333333333333333,
             "#9c179e"
            ],
            [
             0.4444444444444444,
             "#bd3786"
            ],
            [
             0.5555555555555556,
             "#d8576b"
            ],
            [
             0.6666666666666666,
             "#ed7953"
            ],
            [
             0.7777777777777778,
             "#fb9f3a"
            ],
            [
             0.8888888888888888,
             "#fdca26"
            ],
            [
             1,
             "#f0f921"
            ]
           ],
           "sequentialminus": [
            [
             0,
             "#0d0887"
            ],
            [
             0.1111111111111111,
             "#46039f"
            ],
            [
             0.2222222222222222,
             "#7201a8"
            ],
            [
             0.3333333333333333,
             "#9c179e"
            ],
            [
             0.4444444444444444,
             "#bd3786"
            ],
            [
             0.5555555555555556,
             "#d8576b"
            ],
            [
             0.6666666666666666,
             "#ed7953"
            ],
            [
             0.7777777777777778,
             "#fb9f3a"
            ],
            [
             0.8888888888888888,
             "#fdca26"
            ],
            [
             1,
             "#f0f921"
            ]
           ]
          },
          "colorway": [
           "#636efa",
           "#EF553B",
           "#00cc96",
           "#ab63fa",
           "#FFA15A",
           "#19d3f3",
           "#FF6692",
           "#B6E880",
           "#FF97FF",
           "#FECB52"
          ],
          "font": {
           "color": "#2a3f5f"
          },
          "geo": {
           "bgcolor": "white",
           "lakecolor": "white",
           "landcolor": "white",
           "showlakes": true,
           "showland": true,
           "subunitcolor": "#C8D4E3"
          },
          "height": 400,
          "hoverlabel": {
           "align": "left"
          },
          "hovermode": "closest",
          "mapbox": {
           "style": "light"
          },
          "margin": {
           "b": 2,
           "l": 2,
           "r": 2,
           "t": 30
          },
          "paper_bgcolor": "white",
          "plot_bgcolor": "white",
          "polar": {
           "angularaxis": {
            "gridcolor": "#EBF0F8",
            "linecolor": "#EBF0F8",
            "ticks": ""
           },
           "bgcolor": "white",
           "radialaxis": {
            "gridcolor": "#EBF0F8",
            "linecolor": "#EBF0F8",
            "ticks": ""
           }
          },
          "scene": {
           "camera": {
            "eye": {
             "x": 1.5,
             "y": 1.5,
             "z": 0.1
            }
           },
           "xaxis": {
            "backgroundcolor": "white",
            "gridcolor": "#DFE8F3",
            "gridwidth": 2,
            "linecolor": "#EBF0F8",
            "showbackground": true,
            "ticks": "",
            "zerolinecolor": "#EBF0F8"
           },
           "yaxis": {
            "backgroundcolor": "white",
            "gridcolor": "#DFE8F3",
            "gridwidth": 2,
            "linecolor": "#EBF0F8",
            "showbackground": true,
            "ticks": "",
            "zerolinecolor": "#EBF0F8"
           },
           "zaxis": {
            "backgroundcolor": "white",
            "gridcolor": "#DFE8F3",
            "gridwidth": 2,
            "linecolor": "#EBF0F8",
            "showbackground": true,
            "ticks": "",
            "zerolinecolor": "#EBF0F8"
           }
          },
          "shapedefaults": {
           "line": {
            "color": "#2a3f5f"
           }
          },
          "ternary": {
           "aaxis": {
            "gridcolor": "#DFE8F3",
            "linecolor": "#A2B1C6",
            "ticks": ""
           },
           "baxis": {
            "gridcolor": "#DFE8F3",
            "linecolor": "#A2B1C6",
            "ticks": ""
           },
           "bgcolor": "white",
           "caxis": {
            "gridcolor": "#DFE8F3",
            "linecolor": "#A2B1C6",
            "ticks": ""
           }
          },
          "title": {
           "x": 0.5
          },
          "xaxis": {
           "automargin": true,
           "gridcolor": "#EBF0F8",
           "linecolor": "#EBF0F8",
           "linewidth": 2,
           "showline": true,
           "ticks": "",
           "title": {
            "standoff": 15
           },
           "zerolinecolor": "#EBF0F8",
           "zerolinewidth": 2
          },
          "yaxis": {
           "automargin": true,
           "gridcolor": "#EBF0F8",
           "linecolor": "#EBF0F8",
           "linewidth": 2,
           "showline": true,
           "ticks": "",
           "title": {
            "standoff": 15
           },
           "zerolinecolor": "#EBF0F8",
           "zerolinewidth": 2
          }
         }
        },
        "xaxis": {
         "anchor": "y",
         "domain": [
          0,
          1
         ],
         "title": {
          "text": "year"
         }
        },
        "yaxis": {
         "anchor": "x",
         "domain": [
          0,
          1
         ],
         "title": {
          "text": "min temperature"
         }
        }
       }
      }
     },
     "metadata": {},
     "output_type": "display_data"
    }
   ],
   "source": [
    "model = MicrosoftCustomLinearRegressor().fit(X = dataset.year, y = dataset.min_temperature, cost_function=sum_of_absolute_difference)\n",
    "\n",
    "# Graphing the module\n",
    "graphing.scatter_2D(dataset, label_x='year', label_y='min_temperature', trendline=model.predict)"
   ]
  }
 ],
 "metadata": {
  "kernelspec": {
   "display_name": "Python 3.10.4 64-bit",
   "language": "python",
   "name": "python3"
  },
  "language_info": {
   "codemirror_mode": {
    "name": "ipython",
    "version": 3
   },
   "file_extension": ".py",
   "mimetype": "text/x-python",
   "name": "python",
   "nbconvert_exporter": "python",
   "pygments_lexer": "ipython3",
   "version": "3.10.4"
  },
  "orig_nbformat": 4,
  "vscode": {
   "interpreter": {
    "hash": "626d1fe66a228df330023f8a4d43a2626a3e8ec3ecf2911dbf50c16ea94dac8b"
   }
  }
 },
 "nbformat": 4,
 "nbformat_minor": 2
}
